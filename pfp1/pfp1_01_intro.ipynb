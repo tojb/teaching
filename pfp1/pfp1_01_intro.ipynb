{
 "cells": [
  {
   "cell_type": "markdown",
   "metadata": {},
   "source": [
    "### Run some Python code!\n",
    "\n",
    "To run the code below:\n",
    "\n",
    "1. Click on the cell to select it.\n",
    "2. Press `SHIFT+ENTER` on your keyboard or press the play button (<button class='fa fa-play icon-play btn btn-xs btn-default'></button>) in the toolbar above.\n",
    "\n",
    "You can use a  [web service](https://nbviewer.jupyter.org/) to run this notebook, or (better) run it locally by typing 'ipython notebook your_ipynb_file.ipynb' if ipython is installed."
   ]
  },
  {
   "cell_type": "code",
   "execution_count": null,
   "metadata": {
    "collapsed": false
   },
   "outputs": [],
   "source": [
    "##this line is a comment: it has no direct effect\n",
    "\n",
    "##the line below creates a variable, x, and sets it equal to 1.\n",
    "x = 1\n",
    "\n",
    "##lets have some output\n",
    "print(x)\n",
    "\n",
    "##lets do some maths\n",
    "x = x + 1\n",
    "\n",
    "print(x)\n",
    "\n",
    "##you should see the results of the calculation below:\n",
    "# |\n",
    "# |\n",
    "# V"
   ]
  },
  {
   "cell_type": "markdown",
   "metadata": {},
   "source": [
    "Feel free to open new cells using the plus button (<button class='fa fa-plus icon-plus btn btn-xs btn-default'></button>), or hitting shift-enter while this cell is selected."
   ]
  },
  {
   "cell_type": "markdown",
   "metadata": {},
   "source": [
    "Now we can look at creating different **types** of variables. \n",
    "\n",
    "x, above, was an **integer**.  Real values cannot be stored in a computer to infinite precision, however python offers a **float** ('floating point') datatype which allows non-integer values to be stored."
   ]
  },
  {
   "cell_type": "code",
   "execution_count": null,
   "metadata": {
    "collapsed": false
   },
   "outputs": [],
   "source": [
    "i = 1           ##declare an integer i == 1\n",
    "x = float(1)    ##declare a float    x == 1.0\n",
    "y = 1.0\n",
    "\n",
    "print(i)\n",
    "print(x)\n",
    "print(y)\n",
    "\n",
    "##Below is a \"predicate\" (or \"test\", if you don't like long words).\n",
    "##\n",
    "##A predicate evaluates to either \"True\" or \"False\".\n",
    "##\n",
    "##useful predicate operators are: \n",
    "##    x  > y    greater than\n",
    "##    x <= y    less than or equal to\n",
    "##    x != y    is not equal to\n",
    "##    x == y    is equal to\n",
    "if i == x:\n",
    "    print(\"i and x are equal, but they are not the same\")\n",
    "\n",
    "if y == x and type(x) == type(y):\n",
    "    print(\"x and y are equal, and they are the same type\")"
   ]
  },
  {
   "cell_type": "markdown",
   "metadata": {},
   "source": [
    "Now lets examine some of the consequences of the finite precision which is available in a real computer.\n",
    "\n",
    "To do this we will need to import a library, numpy ('numerical python').  \n",
    "\n",
    "Numpy is really useful, so lets import it with a short name:"
   ]
  },
  {
   "cell_type": "code",
   "execution_count": null,
   "metadata": {
    "collapsed": false
   },
   "outputs": [],
   "source": [
    "import numpy as np\n",
    "\n",
    "y = np.sin( np.pi  )\n",
    "\n",
    "if y == 0:\n",
    "    print(\"sin(pi) is equal to zero.\")\n",
    "else:\n",
    "    print(\"sin(pi) is not equal to zero:\")\n",
    "    print(y)\n",
    "    "
   ]
  },
  {
   "cell_type": "markdown",
   "metadata": {},
   "source": [
    "There's something to notice here: $$\\sin(\\pi)$$ is *not* equal to zero."
   ]
  },
  {
   "cell_type": "markdown",
   "metadata": {},
   "source": [
    "## Indentation\n",
    "\n",
    "Did you notice that the statement after the 'if:' and the 'else:' in the block above was indented by four spaces?  In other programming languages this is good practice for readable code.  In python it is **needed**.  The indentation marks the section of code to be executed conditionally.\n",
    "\n",
    "Nested indentation also works:"
   ]
  },
  {
   "cell_type": "code",
   "execution_count": null,
   "metadata": {
    "collapsed": false
   },
   "outputs": [],
   "source": [
    "if 1 > 0:\n",
    "    if \"truth\" == \"beauty\":\n",
    "        print(\"Not actually the case\")\n",
    "    else:\n",
    "        print(\"Correct, truth and beauty are not the same thing at all.\")"
   ]
  },
  {
   "cell_type": "markdown",
   "metadata": {},
   "source": [
    "## Equality and identity\n",
    "\n",
    "There is a distinction to make which it is good to understand early: two different python variable names can have the same value, but refer to different objects ('*equality*') or they can refer to the exact same object ('*identity*').  Read the following code:\n"
   ]
  },
  {
   "cell_type": "code",
   "execution_count": null,
   "metadata": {
    "collapsed": false
   },
   "outputs": [],
   "source": [
    "##\n",
    "\n",
    "x = 1.0\n",
    "y = x\n",
    "z = 1.0\n",
    "\n",
    "if y is x:\n",
    "    print(\"y and x are identical: two references for the same object\")\n",
    "\n",
    "if z is not x:\n",
    "    print(\"z and x are not identical\")\n",
    "\n",
    "y = y * 10\n",
    "\n",
    "print(y)\n"
   ]
  },
  {
   "cell_type": "markdown",
   "metadata": {},
   "source": [
    "At the end of the program above, is y identical to x?  If you know the answer, then you understand how python handles memory management behind the scenes."
   ]
  },
  {
   "cell_type": "markdown",
   "metadata": {},
   "source": [
    "## Assignment\n",
    "\n",
    "Create a cell (below) and use numpy to solve the following problems:\n",
    "\n",
    "1) What is the length of the hypotenuse of a right-angled triangle, having the other sides of length 8 and 9?\n",
    "\n",
    "2) Print a random integer on the half-open interval [0,100). (use [np.random.randint](https://docs.scipy.org/doc/numpy-dev/reference/generated/numpy.random.randint.html#numpy.random.randint) for this).\n",
    "\n"
   ]
  },
  {
   "cell_type": "markdown",
   "metadata": {},
   "source": [
    "*When you are finished, please upload your notebooks (myname_1.ipynb) to moodle.*\n",
    "\n",
    "**This course is assessed 50% by uploaded work and 50% by final exam.**"
   ]
  },
  {
   "cell_type": "code",
   "execution_count": null,
   "metadata": {
    "collapsed": true
   },
   "outputs": [],
   "source": []
  }
 ],
 "metadata": {
  "anaconda-cloud": {},
  "kernelspec": {
   "display_name": "Python [Root]",
   "language": "python",
   "name": "Python [Root]"
  },
  "language_info": {
   "codemirror_mode": {
    "name": "ipython",
    "version": 3
   },
   "file_extension": ".py",
   "mimetype": "text/x-python",
   "name": "python",
   "nbconvert_exporter": "python",
   "pygments_lexer": "ipython3",
   "version": "3.5.2"
  },
  "widgets": {
   "state": {},
   "version": "1.1.2"
  }
 },
 "nbformat": 4,
 "nbformat_minor": 0
}
